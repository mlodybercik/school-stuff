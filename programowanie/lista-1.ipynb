{
 "cells": [
  {
   "cell_type": "code",
   "execution_count": 2,
   "id": "broadband-printing",
   "metadata": {},
   "outputs": [],
   "source": [
    "import numpy as np\n",
    "import matplotlib.pyplot as plt\n",
    "from typing import Tuple\n",
    "import random\n",
    "kolumny = int\n",
    "wiersze = int\n",
    "oceny = [2.0, 2.5, 3.0, 3.5, 4.0, 4.5, 5.0, 5.5]"
   ]
  },
  {
   "cell_type": "markdown",
   "id": "complicated-pharmacy",
   "metadata": {},
   "source": [
    "### Wylosować macierz z ocenami z zakresu 2.0-5.5 i przyjąć, że wiersze reprezentują studentów, a kolumny odpowiadają poszczególnym przedmiotom."
   ]
  },
  {
   "cell_type": "code",
   "execution_count": 3,
   "id": "natural-generator",
   "metadata": {},
   "outputs": [],
   "source": [
    "def wylosuj_macierz(wielkosc: Tuple[wiersze, kolumny]) -> np.array:\n",
    "    assert wielkosc[0]>0 and wielkosc[1]>0, \"Macierz musi mieć dodatnią wielkość.\"\n",
    "    _ = []\n",
    "    for _w in range(0, wielkosc[0]):\n",
    "        wiersz = []\n",
    "        for _k in range(0, wielkosc[1]):\n",
    "            wiersz.append(random.choice(oceny))\n",
    "        _.append(wiersz)\n",
    "    return np.array(_, np.float16)"
   ]
  },
  {
   "cell_type": "markdown",
   "id": "improved-roller",
   "metadata": {},
   "source": [
    "#### Przykład stworzonej przez nas macierzy:"
   ]
  },
  {
   "cell_type": "code",
   "execution_count": 4,
   "id": "material-showcase",
   "metadata": {},
   "outputs": [
    {
     "data": {
      "text/plain": [
       "array([[5. , 5.5, 5.5],\n",
       "       [3.5, 5. , 3.5],\n",
       "       [3. , 5.5, 2. ],\n",
       "       [2.5, 5.5, 4. ],\n",
       "       [4.5, 4.5, 5.5],\n",
       "       [3. , 2.5, 5. ],\n",
       "       [4. , 4. , 3.5],\n",
       "       [2. , 4.5, 4. ]], dtype=float16)"
      ]
     },
     "execution_count": 4,
     "metadata": {},
     "output_type": "execute_result"
    }
   ],
   "source": [
    "(macierz := wylosuj_macierz((8,3)))"
   ]
  },
  {
   "cell_type": "markdown",
   "id": "julian-illness",
   "metadata": {},
   "source": [
    "Kolumny => Przedmiot\n",
    "Wiersze => Student"
   ]
  },
  {
   "cell_type": "code",
   "execution_count": 5,
   "id": "fewer-agent",
   "metadata": {},
   "outputs": [
    {
     "data": {
      "text/plain": [
       "4"
      ]
     },
     "execution_count": 5,
     "metadata": {},
     "output_type": "execute_result"
    }
   ],
   "source": [
    "def ile_nie_zaliczylo(n_przedmiotow: int) -> int:\n",
    "    liczba = 0\n",
    "    for student in macierz:\n",
    "        niezaliczone = 0\n",
    "        for ocena in student:\n",
    "            if ocena in [2.0, 2.5]:\n",
    "                niezaliczone += 1\n",
    "        if niezaliczone >= n_przedmiotow:\n",
    "            liczba += 1\n",
    "    return liczba\n",
    "ile_nie_zaliczylo(1)"
   ]
  },
  {
   "cell_type": "code",
   "execution_count": 6,
   "id": "incoming-tunnel",
   "metadata": {},
   "outputs": [
    {
     "data": {
      "text/plain": [
       "(array([5. , 5.5, 5.5], dtype=float16), array([2. , 4.5, 4. ], dtype=float16))"
      ]
     },
     "execution_count": 6,
     "metadata": {},
     "output_type": "execute_result"
    }
   ],
   "source": [
    "def min_max_srednia() -> np.array:\n",
    "    i_min = 0 # index minimum\n",
    "    a_min = 0.0 # srednia minimum\n",
    "    i_max = 0 # index maksimum\n",
    "    a_max = 0.0 # srednia maksimum\n",
    "    for i, student in enumerate(macierz):\n",
    "        srednia = student.mean()\n",
    "        if srednia > a_max:\n",
    "            i_max = i\n",
    "        if srednia < a_min:\n",
    "            i_min = i\n",
    "    return macierz[i_min], macierz[i_max]\n",
    "min_max_srednia()"
   ]
  },
  {
   "cell_type": "code",
   "execution_count": 7,
   "id": "national-briefing",
   "metadata": {},
   "outputs": [
    {
     "data": {
      "text/plain": [
       "(array([0]),)"
      ]
     },
     "execution_count": 7,
     "metadata": {},
     "output_type": "execute_result"
    }
   ],
   "source": [
    "def n_of_max() -> np.array:\n",
    "    _max = macierz.max()\n",
    "    n_of_maxes = np.count_nonzero(macierz == _max, axis=1)\n",
    "    return np.where(np.max(n_of_maxes) == n_of_maxes)\n",
    "n_of_max()"
   ]
  },
  {
   "cell_type": "code",
   "execution_count": 8,
   "id": "arbitrary-austin",
   "metadata": {},
   "outputs": [
    {
     "data": {
      "text/plain": [
       "[0, 1, 3, 4]"
      ]
     },
     "execution_count": 8,
     "metadata": {},
     "output_type": "execute_result"
    }
   ],
   "source": [
    "def lista_ze_srednimi() -> list:\n",
    "    studenci = []\n",
    "    for i, student in enumerate(macierz):\n",
    "        if student.mean() >= 4.0:\n",
    "            studenci.append(i)\n",
    "    return studenci\n",
    "lista_ze_srednimi()"
   ]
  },
  {
   "cell_type": "code",
   "execution_count": 9,
   "id": "obvious-theory",
   "metadata": {},
   "outputs": [
    {
     "data": {
      "image/png": "[encoded data removed]",
      "text/plain": [
       "<Figure size 432x288 with 1 Axes>"
      ]
     },
     "metadata": {
      "needs_background": "light"
     },
     "output_type": "display_data"
    },
    {
     "data": {
      "image/png": "[encoded data removed]",
      "text/plain": [
       "<Figure size 432x288 with 1 Axes>"
      ]
     },
     "metadata": {
      "needs_background": "light"
     },
     "output_type": "display_data"
    },
    {
     "data": {
      "image/png": "[encoded data removed]",
      "text/plain": [
       "<Figure size 432x288 with 1 Axes>"
      ]
     },
     "metadata": {
      "needs_background": "light"
     },
     "output_type": "display_data"
    }
   ],
   "source": [
    "def histogram():\n",
    "    for przedmiot in macierz.T:\n",
    "        plt.hist(przedmiot, bins=oceny)\n",
    "        plt.xlabel(\"Oceny\")\n",
    "        plt.ylabel(\"Ilosc ocen\")\n",
    "        plt.show()\n",
    "histogram()"
   ]
  },
  {
   "cell_type": "markdown",
   "id": "generous-supervisor",
   "metadata": {},
   "source": [
    "### Wyznaczyć odległość symetryczną dwóch macierzy o jednakowych wymiarach. Odległość symetryczna dana jest wzorem:\n",
    "$\\sum_{i=1}^{L}\\sum_{j=1}^{L}|p_{i,j} - q_{i,j}|$"
   ]
  },
  {
   "cell_type": "code",
   "execution_count": 10,
   "id": "pointed-panel",
   "metadata": {},
   "outputs": [
    {
     "name": "stdout",
     "output_type": "stream",
     "text": [
      "[[2.5 5.  2.5 3.5 4. ]\n",
      " [3.5 5.5 5.5 2.  5.5]\n",
      " [2.  2.5 3.  2.5 2. ]\n",
      " [4.5 5.5 4.  3.5 5. ]\n",
      " [4.5 2.  5.5 3.5 3.5]]\n",
      "\n",
      "[[4.  5.  3.  4.5 3.5]\n",
      " [5.5 2.  4.  3.  4. ]\n",
      " [4.  3.  5.  2.5 5. ]\n",
      " [4.5 3.  5.  3.  4. ]\n",
      " [3.5 5.5 3.  4.  4. ]]\n"
     ]
    }
   ],
   "source": [
    "print((p := wylosuj_macierz((5,5))), end=\"\\n\\n\")\n",
    "print((q := wylosuj_macierz((5,5))))"
   ]
  },
  {
   "cell_type": "code",
   "execution_count": 11,
   "id": "burning-processor",
   "metadata": {},
   "outputs": [
    {
     "data": {
      "text/plain": [
       "33.5"
      ]
     },
     "execution_count": 11,
     "metadata": {},
     "output_type": "execute_result"
    }
   ],
   "source": [
    "(odleglosc_symetryczna := (abs(p-q)).sum())"
   ]
  },
  {
   "cell_type": "markdown",
   "id": "palestinian-israel",
   "metadata": {},
   "source": [
    "### Sprowadzić macierz do postaci schodkowej zredukowanej"
   ]
  },
  {
   "cell_type": "code",
   "execution_count": 22,
   "id": "alleged-occasions",
   "metadata": {},
   "outputs": [
    {
     "data": {
      "text/plain": [
       "array([[ 1.    ,  2.    ,  1.    ,  1.4   ,  1.6   ],\n",
       "       [ 0.    ,  1.    , -1.333 ,  1.935 ,  0.0651],\n",
       "       [ 0.    ,  0.    ,  1.    , -2.602 ,  1.102 ],\n",
       "       [ 0.    ,  0.    ,  0.    ,  1.    , -0.3923],\n",
       "       [ 0.    ,  0.    ,  0.    ,  0.    ,  1.    ]], dtype=float16)"
      ]
     },
     "execution_count": 22,
     "metadata": {},
     "output_type": "execute_result"
    }
   ],
   "source": [
    "def gauss(macierz: np.array) -> np.array:\n",
    "    rz, ko = macierz.shape\n",
    "    if rz == 0 or ko == 0:\n",
    "        return macierz\n",
    "    for i in range(len(macierz)):\n",
    "        if macierz[i,0] != 0:\n",
    "            break\n",
    "    else:\n",
    "        pod_macierz = gauss(macierz[:,1:])\n",
    "        return np.hstack([macierz[:,:1], pod_macierz])\n",
    "\n",
    "    if i > 0:\n",
    "        rzad_i = macierz[i].copy()\n",
    "        macierz[i] = macierz[0]\n",
    "        macierz[0] = rzad_i\n",
    "    macierz[0] = macierz[0] / macierz[0,0]\n",
    "    macierz[1:] -= macierz[0] * macierz[1:,0:1]\n",
    "    pod_macierz = gauss(macierz[1:,1:])\n",
    "    return np.vstack([macierz[:1], np.hstack([macierz[1:,:1], pod_macierz]) ])\n",
    "\n",
    "gauss(p)"
   ]
  },
  {
   "cell_type": "markdown",
   "id": "billion-classics",
   "metadata": {},
   "source": [
    "### Przyjąć, że pierwsza macierz przedstawia paragon w sklepie i zawiera w kolumnach: numer klienta, numer towaru, liczbę sztuk (lub wagę w kilogramach). Druga macierz zawiera opisy towarów, tj.: numer towaru, cenę jednostkową (lub za kg), informację czy towar jest sprzedawany na sztuki czy na wagę."
   ]
  },
  {
   "cell_type": "code",
   "execution_count": 12,
   "id": "skilled-baker",
   "metadata": {},
   "outputs": [],
   "source": [
    "sztuki = True\n",
    "waga = False\n",
    "paragon = np.array([\n",
    "    [1, 2, 10  ],\n",
    "    [2, 2, 5.2 ],\n",
    "    [2, 1, 3   ],\n",
    "    [3, 1, 12  ],\n",
    "    [4, 4, 7   ],\n",
    "    [4, 3, 7   ]\n",
    "])\n",
    "opis_towaru = np.array([\n",
    "    [1, 7.50, sztuki],\n",
    "    [2, 4,    waga],\n",
    "    [3, 2,    sztuki],\n",
    "    [4, 4,    waga]\n",
    "])"
   ]
  },
  {
   "cell_type": "code",
   "execution_count": 13,
   "id": "domestic-swedish",
   "metadata": {},
   "outputs": [
    {
     "name": "stdout",
     "output_type": "stream",
     "text": [
      "Produkty na paragonie są w opisie towaru: True\n",
      "Sztuki = int, waga = float True\n"
     ]
    }
   ],
   "source": [
    "def check_product_in_paragon():\n",
    "    return set(paragon[:, 1]) == set(opis_towaru[:, 0])\n",
    "\n",
    "def check_sztuki():\n",
    "    for item in paragon:\n",
    "        towar = opis_towaru[int(item[1]-1)]\n",
    "        if towar[2] and item[2] - np.float64(np.floor(item[2])) != 0:\n",
    "            return False\n",
    "    return True\n",
    "\n",
    "print(\"Produkty na paragonie są w opisie towaru:\", check_product_in_paragon())\n",
    "print(\"Sztuki = int, waga = float\", check_sztuki())"
   ]
  },
  {
   "cell_type": "code",
   "execution_count": 14,
   "id": "changed-burton",
   "metadata": {},
   "outputs": [
    {
     "data": {
      "text/plain": [
       "{1.0: 40.0, 2.0: 43.3, 3.0: 90.0, 4.0: 42.0}"
      ]
     },
     "execution_count": 14,
     "metadata": {},
     "output_type": "execute_result"
    }
   ],
   "source": [
    "def policz_koszt():\n",
    "    koszt = dict.fromkeys(set(paragon[:, 0]), 0.0)\n",
    "    for item in paragon:\n",
    "        koszt[item[0]] += opis_towaru[int(item[1])-1][1] * item[2]\n",
    "    return koszt\n",
    "policz_koszt()"
   ]
  },
  {
   "cell_type": "markdown",
   "id": "aquatic-roots",
   "metadata": {},
   "source": [
    "Teraz troche popsujemy:\n",
    "1. dodajemy do paragonu nieistniejący produkt.\n",
    "2. produkt na sztuki ma część po przecinku"
   ]
  },
  {
   "cell_type": "code",
   "execution_count": 15,
   "id": "equivalent-poison",
   "metadata": {},
   "outputs": [
    {
     "name": "stdout",
     "output_type": "stream",
     "text": [
      "Produkty na paragonie są w opisie towaru: False\n",
      "Sztuki = int, waga = float False\n"
     ]
    }
   ],
   "source": [
    "# 1\n",
    "paragon[5, 1] = 6\n",
    "# 2\n",
    "paragon[2, 2] = 3.1\n",
    "# teraz oba powinny zwrócić fałsz\n",
    "print(\"Produkty na paragonie są w opisie towaru:\", check_product_in_paragon())\n",
    "print(\"Sztuki = int, waga = float\", check_sztuki())"
   ]
  },
  {
   "cell_type": "code",
   "execution_count": null,
   "id": "gorgeous-cache",
   "metadata": {},
   "outputs": [],
   "source": []
  }
 ],
 "metadata": {
  "kernelspec": {
   "display_name": "wda",
   "language": "python",
   "name": "wda"
  },
  "language_info": {
   "codemirror_mode": {
    "name": "ipython",
    "version": 3
   },
   "file_extension": ".py",
   "mimetype": "text/x-python",
   "name": "python",
   "nbconvert_exporter": "python",
   "pygments_lexer": "ipython3",
   "version": "3.8.5"
  }
 },
 "nbformat": 4,
 "nbformat_minor": 5
}
